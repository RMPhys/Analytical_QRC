{
 "cells": [
  {
   "cell_type": "code",
   "execution_count": 1,
   "id": "ed21bc24",
   "metadata": {},
   "outputs": [],
   "source": [
    "import numpy as np\n",
    "from numpy import linalg as la\n",
    "from matplotlib import pyplot as plt\n",
    "import qutip as qt"
   ]
  },
  {
   "cell_type": "code",
   "execution_count": 3,
   "id": "fa2591fe",
   "metadata": {},
   "outputs": [],
   "source": [
    "#Functions\n",
    "def Op_list(N,obs): \n",
    "    Op=[]\n",
    "    I=qt.qeye(2)\n",
    "    for i in range(N):\n",
    "        Op_list=[]\n",
    "        for j in range(N):\n",
    "            Op_list.append(I)\n",
    "        Op_list[i] = obs\n",
    "        Op.append(qt.tensor(Op_list))\n",
    "    return Op\n",
    "\n",
    "def all_equal_dm(N):\n",
    "    dims=int(2**N)\n",
    "    dm = np.full((dims,dims),1.0/float(dims),dtype=np.complex128)\n",
    "    return dm  \n",
    "\n",
    "def J_all2all_het(Js,N):     #All to all random network\n",
    "    J=np.random.uniform(-Js/2.0,Js/2.0,(N,N))\n",
    "    return J\n",
    "\n",
    "def h_het(W,B,N):\n",
    "    h=0.5*np.random.uniform(B-W,B+W,N) \n",
    "    return h\n",
    "\n",
    "def H_XXZ(J,h,N):\n",
    "    H=0\n",
    "    X_=Op_list(N,qt.sigmax())\n",
    "    Z_=Op_list(N,qt.sigmaz())\n",
    "    for i in range(N):\n",
    "        H+=h[i]*Z_[i]\n",
    "        for j in range(i+1,N):\n",
    "            H+=J[i,j]*X_[i]*X_[j]\n",
    "            j+=1\n",
    "    return H\n",
    "\n",
    "def ptrace(rho,N):\n",
    "    reshaped_rho = rho.reshape([2, 2**(N-1), 2, 2**(N-1)])\n",
    "    reduced_rho = np.einsum('ijik->jk', reshaped_rho,optimize=True) \n",
    "    return reduced_rho\n",
    "\n",
    "\n",
    "def dynamics_no_o(rho_in, s, N, evol_op):\n",
    "    psi_sk = np.sqrt(1-s) * np.array((1,0),dtype=np.complex128) + np.sqrt(s) * np.array((0,1),dtype=np.complex128)\n",
    "    rho1 = np.kron(psi_sk,psi_sk.reshape(-1,1))\n",
    "    reduced_rho = ptrace(rho_in,N)   \n",
    "    rho_out = np.kron(rho1, reduced_rho)  \n",
    "    rho_out = np.dot(evol_op, np.dot(rho_out, np.conj(evol_op))) ##evolution\n",
    "    return rho_out\n",
    "\n",
    "def dynamics_with_o(rho_in, s, N, evol_op, O):\n",
    "    psi_sk = np.sqrt(1-s) * np.array((1,0),dtype=np.complex128) + np.sqrt(s) * np.array((0,1),dtype=np.complex128)\n",
    "    rho1 = np.kron(psi_sk,psi_sk.reshape(-1,1))\n",
    "    reduced_rho = ptrace(rho_in,N)   \n",
    "    rho_out = np.kron(rho1, reduced_rho)  \n",
    "    rho_out = np.dot(evol_op, np.dot(rho_out, np.conj(evol_op))) ##evolution\n",
    "    o = np.trace(O*rho_out).real #expected value\n",
    "    return o"
   ]
  },
  {
   "cell_type": "code",
   "execution_count": 21,
   "id": "a1211273",
   "metadata": {},
   "outputs": [],
   "source": [
    "#Parameters\n",
    "N=8 #number of spins\n",
    "Js=1.0 #coupling strength\n",
    "hs=10.0 #homogeneous magnetic field\n",
    "W=0.0 #heterogeneous magnetic field\n",
    "dt=10.0 #time between inputs\n",
    "L=1000 #total number of inputs\n",
    "steps=50 #number of points in the plot"
   ]
  },
  {
   "cell_type": "code",
   "execution_count": 22,
   "id": "e5302bf5",
   "metadata": {},
   "outputs": [],
   "source": [
    "O = Op_list(N,qt.sigmax())[3] #we select the spin projection in the x direction for the spin number 4\n",
    "s_k = np.random.uniform(0,1,L-1) #input sequence up to L-1\n",
    "s_L = np.linspace(0,1,steps) #samples of the input axis\n",
    "obs = np.zeros(steps) #empty array of the observable for the plot\n",
    "rho = all_equal_dm(N) #initial density matrix\n",
    "h = h_het(W,hs,N) #array of magnetic fields\n",
    "J = J_all2all_het(Js,N) #array of couplings\n",
    "H = H_XXZ(J,h,N) #Hamiltonian\n",
    "eigvals, eigvects = la.eigh(H) \n",
    "P = eigvects.T\n",
    "evol_op = evol_op = np.dot(P.T, np.dot(np.diag( np.exp(-1j * eigvals * dt) ), P)) #unitary evolution operator\n",
    "for k in range(0,L-1): #dynamics up to the last input\n",
    "    rho = dynamics_no_o(rho,s_k[k],N,evol_op)              \n",
    "for i in range(steps): \n",
    "    obs[i] = dynamics_with_o(rho, s_L[i], N, evol_op,O) "
   ]
  },
  {
   "cell_type": "code",
   "execution_count": 23,
   "id": "a83c1b4b",
   "metadata": {},
   "outputs": [
    {
     "data": {
      "image/png": "[encoded data removed]",
      "text/plain": [
       "<Figure size 360x180 with 1 Axes>"
      ]
     },
     "metadata": {
      "needs_background": "light"
     },
     "output_type": "display_data"
    }
   ],
   "source": [
    "fig, ax = plt.subplots(figsize=(5,2.5))\n",
    "plt.scatter(s_L,obs,c='b',s=10)\n",
    "plt.ylabel(r'$\\langle\\sigma^x_4\\rangle $')\n",
    "plt.xlabel('$s_k$')\n",
    "plt.show()"
   ]
  }
 ],
 "metadata": {
  "kernelspec": {
   "display_name": "Python 3",
   "language": "python",
   "name": "python3"
  },
  "language_info": {
   "codemirror_mode": {
    "name": "ipython",
    "version": 3
   },
   "file_extension": ".py",
   "mimetype": "text/x-python",
   "name": "python",
   "nbconvert_exporter": "python",
   "pygments_lexer": "ipython3",
   "version": "3.7.6"
  }
 },
 "nbformat": 4,
 "nbformat_minor": 5
}
